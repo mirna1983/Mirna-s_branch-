{
  "cells": [
    {
      "cell_type": "markdown",
      "id": "bce2bb89",
      "metadata": {
        "id": "bce2bb89"
      },
      "source": [
        "# ADS 509 Assignment 5.1: Topic Modeling\n",
        "\n",
        "This notebook holds Assignment 5.1 for Module 5 in ADS 509, Applied Text Mining. Work through this notebook, writing code and answering questions where required.\n",
        "\n",
        "In this assignment you will work with a categorical corpus that accompanies `nltk`. You will build the three types of topic models described in Chapter 8 of _Blueprints for Text Analytics using Python_: NMF, LSA, and LDA. You will compare these models to the true categories.\n"
      ]
    },
    {
      "cell_type": "markdown",
      "id": "d87e2c06",
      "metadata": {
        "id": "d87e2c06"
      },
      "source": [
        "## General Assignment Instructions\n",
        "\n",
        "These instructions are included in every assignment, to remind you of the coding standards for the class. Feel free to delete this cell after reading it.\n",
        "\n",
        "One sign of mature code is conforming to a style guide. We recommend the [Google Python Style Guide](https://google.github.io/styleguide/pyguide.html). If you use a different style guide, please include a cell with a link.\n",
        "\n",
        "Your code should be relatively easy-to-read, sensibly commented, and clean. Writing code is a messy process, so please be sure to edit your final submission. Remove any cells that are not needed or parts of cells that contain unnecessary code. Remove inessential `import` statements and make sure that all such statements are moved into the designated cell.\n",
        "\n",
        "Make use of non-code cells for written commentary. These cells should be grammatical and clearly written. In some of these cells you will have questions to answer. The questions will be marked by a \"Q:\" and will have a corresponding \"A:\" spot for you. *Make sure to answer every question marked with a `Q:` for full credit.*\n"
      ]
    },
    {
      "cell_type": "code",
      "execution_count": 1,
      "id": "a85bce08",
      "metadata": {
        "id": "a85bce08"
      },
      "outputs": [],
      "source": [
        "# These libraries may be useful to you\n",
        "\n",
        "# !pip install pyLDAvis==3.4.1 --user  #You need to restart the Kernel after installation.\n",
        "# You also need a Python version => 3.9.0\n",
        "from nltk.corpus import brown\n",
        "\n",
        "import numpy as np\n",
        "import pandas as pd\n",
        "from tqdm.auto import tqdm\n",
        "\n",
        "import pyLDAvis\n",
        "import pyLDAvis.lda_model\n",
        "import pyLDAvis.gensim_models\n",
        "\n",
        "import spacy\n",
        "from sklearn.feature_extraction.text import TfidfVectorizer, CountVectorizer\n",
        "from sklearn.decomposition import NMF, TruncatedSVD, LatentDirichletAllocation\n",
        "\n",
        "from spacy.lang.en.stop_words import STOP_WORDS as stopwords\n",
        "import en_core_web_sm\n",
        "\n",
        "from collections import Counter, defaultdict\n",
        "\n",
        "nlp = en_core_web_sm.load()"
      ]
    },
    {
      "cell_type": "code",
      "execution_count": 2,
      "id": "a218df60",
      "metadata": {
        "colab": {
          "base_uri": "https://localhost:8080/"
        },
        "id": "a218df60",
        "outputId": "4e9ecd62-1547-42cc-c132-0e9780dbaa71"
      },
      "outputs": [
        {
          "output_type": "stream",
          "name": "stderr",
          "text": [
            "/usr/local/lib/python3.10/dist-packages/ipykernel/ipkernel.py:283: DeprecationWarning: `should_run_async` will not call `transform_cell` automatically in the future. Please pass the result to `transformed_cell` argument and any exception that happen during thetransform in `preprocessing_exc_tuple` in IPython 7.17 and above.\n",
            "  and should_run_async(code)\n",
            "[nltk_data] Downloading package brown to /root/nltk_data...\n",
            "[nltk_data]   Package brown is already up-to-date!\n",
            "[nltk_data] Downloading package punkt to /root/nltk_data...\n",
            "[nltk_data]   Package punkt is already up-to-date!\n",
            "[nltk_data] Downloading package stopwords to /root/nltk_data...\n",
            "[nltk_data]   Package stopwords is already up-to-date!\n"
          ]
        },
        {
          "output_type": "execute_result",
          "data": {
            "text/plain": [
              "True"
            ]
          },
          "metadata": {},
          "execution_count": 2
        }
      ],
      "source": [
        "# add any additional libaries you need here\n",
        "import\tmatplotlib.pyplot\tas\tplt\n",
        "import\tnltk\n",
        "from\tnltk.corpus\timport\tbrown,\tstopwords\n",
        "from\tsklearn.feature_extraction.text\timport\tCountVectorizer,\tTfidfVectorizer\n",
        "from\tnltk.corpus\timport\tstopwords\n",
        "nltk.download('brown')\n",
        "nltk.download('punkt')\n",
        "nltk.download('stopwords')"
      ]
    },
    {
      "cell_type": "code",
      "execution_count": 3,
      "id": "494de237",
      "metadata": {
        "colab": {
          "base_uri": "https://localhost:8080/"
        },
        "id": "494de237",
        "outputId": "f4c9c115-4bb5-437d-d005-d3f426ab0af8"
      },
      "outputs": [
        {
          "output_type": "stream",
          "name": "stderr",
          "text": [
            "/usr/local/lib/python3.10/dist-packages/ipykernel/ipkernel.py:283: DeprecationWarning: `should_run_async` will not call `transform_cell` automatically in the future. Please pass the result to `transformed_cell` argument and any exception that happen during thetransform in `preprocessing_exc_tuple` in IPython 7.17 and above.\n",
            "  and should_run_async(code)\n"
          ]
        }
      ],
      "source": [
        "# This function comes from the BTAP repo.\n",
        "\n",
        "def display_topics(model, features, no_top_words=5):\n",
        "    for topic, words in enumerate(model.components_):\n",
        "        total = words.sum()\n",
        "        largest = words.argsort()[::-1] # invert sort order\n",
        "        print(\"\\nTopic %02d\" % topic)\n",
        "        for i in range(0, no_top_words):\n",
        "            print(\"  %s (%2.2f)\" % (features[largest[i]], abs(words[largest[i]]*100.0/total)))"
      ]
    },
    {
      "cell_type": "markdown",
      "id": "a30a901c",
      "metadata": {
        "id": "a30a901c"
      },
      "source": [
        "## Getting to Know the Brown Corpus\n",
        "\n",
        "Let's spend a bit of time getting to know what's in the Brown corpus, our NLTK example of an \"overlapping\" corpus."
      ]
    },
    {
      "cell_type": "code",
      "execution_count": 4,
      "id": "457c59ed",
      "metadata": {
        "colab": {
          "base_uri": "https://localhost:8080/"
        },
        "id": "457c59ed",
        "outputId": "06fe1218-bb98-437e-cfcd-5ea3a40c928f"
      },
      "outputs": [
        {
          "output_type": "stream",
          "name": "stdout",
          "text": [
            "For adventure we have 29 articles.\n",
            "For belles_lettres we have 75 articles.\n",
            "For editorial we have 27 articles.\n",
            "For fiction we have 29 articles.\n",
            "For government we have 30 articles.\n",
            "For hobbies we have 36 articles.\n",
            "For humor we have 9 articles.\n",
            "For learned we have 80 articles.\n",
            "For lore we have 48 articles.\n",
            "For mystery we have 24 articles.\n",
            "For news we have 44 articles.\n",
            "For religion we have 17 articles.\n",
            "For reviews we have 17 articles.\n",
            "For romance we have 29 articles.\n",
            "For science_fiction we have 6 articles.\n"
          ]
        },
        {
          "output_type": "stream",
          "name": "stderr",
          "text": [
            "/usr/local/lib/python3.10/dist-packages/ipykernel/ipkernel.py:283: DeprecationWarning: `should_run_async` will not call `transform_cell` automatically in the future. Please pass the result to `transformed_cell` argument and any exception that happen during thetransform in `preprocessing_exc_tuple` in IPython 7.17 and above.\n",
            "  and should_run_async(code)\n"
          ]
        }
      ],
      "source": [
        "# categories of articles in Brown corpus\n",
        "for category in brown.categories() :\n",
        "    print(f\"For {category} we have {len(brown.fileids(categories=category))} articles.\")"
      ]
    },
    {
      "cell_type": "markdown",
      "id": "23fb133c",
      "metadata": {
        "id": "23fb133c"
      },
      "source": [
        "Let's create a dataframe of the articles in of hobbies, editorial, government, news, and romance."
      ]
    },
    {
      "cell_type": "code",
      "execution_count": 5,
      "id": "18f50b9d",
      "metadata": {
        "colab": {
          "base_uri": "https://localhost:8080/"
        },
        "id": "18f50b9d",
        "outputId": "a90409bd-aaa2-49da-94eb-c3e31fa694b4"
      },
      "outputs": [
        {
          "output_type": "stream",
          "name": "stderr",
          "text": [
            "/usr/local/lib/python3.10/dist-packages/ipykernel/ipkernel.py:283: DeprecationWarning: `should_run_async` will not call `transform_cell` automatically in the future. Please pass the result to `transformed_cell` argument and any exception that happen during thetransform in `preprocessing_exc_tuple` in IPython 7.17 and above.\n",
            "  and should_run_async(code)\n"
          ]
        },
        {
          "output_type": "execute_result",
          "data": {
            "text/plain": [
              "(166, 3)"
            ]
          },
          "metadata": {},
          "execution_count": 5
        }
      ],
      "source": [
        "categories = ['editorial','government','news','romance','hobbies']\n",
        "\n",
        "category_list = []\n",
        "file_ids = []\n",
        "texts = []\n",
        "\n",
        "for category in categories :\n",
        "    for file_id in brown.fileids(categories=category) :\n",
        "\n",
        "        # build some lists for a dataframe\n",
        "        category_list.append(category)\n",
        "        file_ids.append(file_id)\n",
        "\n",
        "        text = brown.words(fileids=file_id)\n",
        "        texts.append(\" \".join(text))\n",
        "\n",
        "\n",
        "\n",
        "df = pd.DataFrame()\n",
        "df['category'] = category_list\n",
        "df['id'] = file_ids\n",
        "df['text'] = texts\n",
        "\n",
        "df.shape"
      ]
    },
    {
      "cell_type": "code",
      "execution_count": 6,
      "id": "586f47de",
      "metadata": {
        "colab": {
          "base_uri": "https://localhost:8080/"
        },
        "id": "586f47de",
        "outputId": "896aebd1-da14-4939-d444-959b6ad25619"
      },
      "outputs": [
        {
          "output_type": "stream",
          "name": "stderr",
          "text": [
            "/usr/local/lib/python3.10/dist-packages/ipykernel/ipkernel.py:283: DeprecationWarning: `should_run_async` will not call `transform_cell` automatically in the future. Please pass the result to `transformed_cell` argument and any exception that happen during thetransform in `preprocessing_exc_tuple` in IPython 7.17 and above.\n",
            "  and should_run_async(code)\n"
          ]
        }
      ],
      "source": [
        "# Let's add some helpful columns on the df\n",
        "df['char_len'] = df['text'].apply(len)\n",
        "df['word_len'] = df['text'].apply(lambda x: len(x.split()))\n"
      ]
    },
    {
      "cell_type": "code",
      "execution_count": 7,
      "id": "2128fd2d",
      "metadata": {
        "colab": {
          "base_uri": "https://localhost:8080/",
          "height": 700
        },
        "id": "2128fd2d",
        "outputId": "ea6184c4-448a-46ca-c79a-1dd576ef8e57"
      },
      "outputs": [
        {
          "output_type": "stream",
          "name": "stderr",
          "text": [
            "/usr/local/lib/python3.10/dist-packages/ipykernel/ipkernel.py:283: DeprecationWarning: `should_run_async` will not call `transform_cell` automatically in the future. Please pass the result to `transformed_cell` argument and any exception that happen during thetransform in `preprocessing_exc_tuple` in IPython 7.17 and above.\n",
            "  and should_run_async(code)\n"
          ]
        },
        {
          "output_type": "execute_result",
          "data": {
            "text/plain": [
              "<Axes: xlabel='category'>"
            ]
          },
          "metadata": {},
          "execution_count": 7
        },
        {
          "output_type": "display_data",
          "data": {
            "text/plain": [
              "<Figure size 1000x600 with 1 Axes>"
            ],
            "image/png": "[encoded data removed]"
          },
          "metadata": {}
        }
      ],
      "source": [
        "%matplotlib inline\n",
        "df.groupby('category').agg({'word_len': 'mean'}).plot.bar(figsize=(10,6))"
      ]
    },
    {
      "cell_type": "markdown",
      "id": "554ffeb5",
      "metadata": {
        "id": "554ffeb5"
      },
      "source": [
        "Now do our TF-IDF and Count vectorizations."
      ]
    },
    {
      "cell_type": "code",
      "execution_count": 8,
      "id": "21a7d247",
      "metadata": {
        "colab": {
          "base_uri": "https://localhost:8080/"
        },
        "id": "21a7d247",
        "outputId": "fb7aed18-22ec-479a-87f0-a5de008dcdfc"
      },
      "outputs": [
        {
          "output_type": "stream",
          "name": "stderr",
          "text": [
            "/usr/local/lib/python3.10/dist-packages/ipykernel/ipkernel.py:283: DeprecationWarning: `should_run_async` will not call `transform_cell` automatically in the future. Please pass the result to `transformed_cell` argument and any exception that happen during thetransform in `preprocessing_exc_tuple` in IPython 7.17 and above.\n",
            "  and should_run_async(code)\n"
          ]
        },
        {
          "output_type": "execute_result",
          "data": {
            "text/plain": [
              "(166, 5073)"
            ]
          },
          "metadata": {},
          "execution_count": 8
        }
      ],
      "source": [
        "stopwords\t=\tset(stopwords.words('english'))\n",
        "\n",
        "count_text_vectorizer = CountVectorizer(stop_words=list(stopwords), min_df=5, max_df=0.7)\n",
        "count_text_vectors = count_text_vectorizer.fit_transform(df[\"text\"])\n",
        "count_text_vectors.shape"
      ]
    },
    {
      "cell_type": "code",
      "execution_count": 9,
      "id": "875deba9",
      "metadata": {
        "colab": {
          "base_uri": "https://localhost:8080/"
        },
        "id": "875deba9",
        "outputId": "fd13406c-450f-4a61-9eb1-9da9f758f1c4"
      },
      "outputs": [
        {
          "output_type": "stream",
          "name": "stderr",
          "text": [
            "/usr/local/lib/python3.10/dist-packages/ipykernel/ipkernel.py:283: DeprecationWarning: `should_run_async` will not call `transform_cell` automatically in the future. Please pass the result to `transformed_cell` argument and any exception that happen during thetransform in `preprocessing_exc_tuple` in IPython 7.17 and above.\n",
            "  and should_run_async(code)\n"
          ]
        },
        {
          "output_type": "execute_result",
          "data": {
            "text/plain": [
              "(166, 5073)"
            ]
          },
          "metadata": {},
          "execution_count": 9
        }
      ],
      "source": [
        "tfidf_text_vectorizer = TfidfVectorizer(stop_words=list(stopwords), min_df=5, max_df=0.7)\n",
        "tfidf_text_vectors = tfidf_text_vectorizer.fit_transform(df['text'])\n",
        "tfidf_text_vectors.shape"
      ]
    },
    {
      "cell_type": "markdown",
      "id": "a1062b21",
      "metadata": {
        "id": "a1062b21"
      },
      "source": [
        "Q: What do the two data frames `count_text_vectors` and `tfidf_text_vectors` hold?\n",
        "\n",
        "A: The two data frames `count_text_vectors` and `tfidf_text_vectors` hold numerical representations of the text data from selected categories of the Brown corpus, transformed into a format suitable for machine learning models. Specifically, `count_text_vectors` is created using CountVectorizer, which counts the number of times each word appears in the text, essentially turning text into a set of count-based features. On the other hand, `tfidf_text_vectors` is created using TfidfVectorizer, which not only counts words but also adjusts these counts based on how often the words appear across all documents; words that are common in a single document but rare in others get higher scores. This method helps in highlighting the most relevant words in each document. Both are essential for analyzing texts with algorithms that require numeric input."
      ]
    },
    {
      "cell_type": "markdown",
      "id": "f77c3f94",
      "metadata": {
        "id": "f77c3f94"
      },
      "source": [
        "## Fitting a Non-Negative Matrix Factorization Model\n",
        "\n",
        "In this section the code to fit a five-topic NMF model has already been written. This code comes directly from the [BTAP repo](https://github.com/blueprints-for-text-analytics-python/blueprints-text), which will help you tremendously in the coming sections."
      ]
    },
    {
      "cell_type": "code",
      "execution_count": 10,
      "id": "d28745a3",
      "metadata": {
        "colab": {
          "base_uri": "https://localhost:8080/"
        },
        "id": "d28745a3",
        "outputId": "50c70eda-172b-473f-9337-f54ca7e16607"
      },
      "outputs": [
        {
          "output_type": "stream",
          "name": "stderr",
          "text": [
            "/usr/local/lib/python3.10/dist-packages/ipykernel/ipkernel.py:283: DeprecationWarning: `should_run_async` will not call `transform_cell` automatically in the future. Please pass the result to `transformed_cell` argument and any exception that happen during thetransform in `preprocessing_exc_tuple` in IPython 7.17 and above.\n",
            "  and should_run_async(code)\n"
          ]
        }
      ],
      "source": [
        "nmf_text_model = NMF(n_components=5, random_state=314)\n",
        "W_text_matrix = nmf_text_model.fit_transform(tfidf_text_vectors)\n",
        "H_text_matrix = nmf_text_model.components_"
      ]
    },
    {
      "cell_type": "code",
      "execution_count": 11,
      "id": "a67185e7",
      "metadata": {
        "colab": {
          "base_uri": "https://localhost:8080/"
        },
        "id": "a67185e7",
        "outputId": "4f621900-e7da-46e8-a4ef-75caf21378a7"
      },
      "outputs": [
        {
          "output_type": "stream",
          "name": "stdout",
          "text": [
            "\n",
            "Topic 00\n",
            "  mr (0.48)\n",
            "  president (0.43)\n",
            "  kennedy (0.41)\n",
            "  united (0.40)\n",
            "  khrushchev (0.38)\n",
            "\n",
            "Topic 01\n",
            "  said (0.78)\n",
            "  thought (0.38)\n",
            "  back (0.34)\n",
            "  man (0.34)\n",
            "  little (0.31)\n",
            "\n",
            "Topic 02\n",
            "  mrs (2.38)\n",
            "  mr (0.75)\n",
            "  said (0.71)\n",
            "  miss (0.48)\n",
            "  car (0.46)\n",
            "\n",
            "Topic 03\n",
            "  state (0.38)\n",
            "  development (0.35)\n",
            "  tax (0.32)\n",
            "  sales (0.29)\n",
            "  may (0.28)\n",
            "\n",
            "Topic 04\n",
            "  game (0.97)\n",
            "  league (0.70)\n",
            "  ball (0.69)\n",
            "  baseball (0.66)\n",
            "  team (0.63)\n"
          ]
        },
        {
          "output_type": "stream",
          "name": "stderr",
          "text": [
            "/usr/local/lib/python3.10/dist-packages/ipykernel/ipkernel.py:283: DeprecationWarning: `should_run_async` will not call `transform_cell` automatically in the future. Please pass the result to `transformed_cell` argument and any exception that happen during thetransform in `preprocessing_exc_tuple` in IPython 7.17 and above.\n",
            "  and should_run_async(code)\n"
          ]
        }
      ],
      "source": [
        "display_topics(nmf_text_model, tfidf_text_vectorizer.get_feature_names_out())"
      ]
    },
    {
      "cell_type": "markdown",
      "id": "fee51e9b",
      "metadata": {
        "id": "fee51e9b"
      },
      "source": [
        "Now some work for you to do. Compare the NMF categorization to the original categories from the Brown Corpus.\n",
        "\n",
        "We are interested in the extent to which our NMF categorization agrees or disagrees with the original categories in the corpus. For each topic in your NMF model, tally the Brown categories and interpret the results.\n"
      ]
    },
    {
      "cell_type": "code",
      "execution_count": 12,
      "id": "7c8c8eb0",
      "metadata": {
        "colab": {
          "base_uri": "https://localhost:8080/"
        },
        "id": "7c8c8eb0",
        "outputId": "6a6640b6-b388-48e5-e178-edec535213a0"
      },
      "outputs": [
        {
          "output_type": "stream",
          "name": "stdout",
          "text": [
            "category        editorial  government  hobbies  news  romance\n",
            "dominant_topic                                               \n",
            "0                      21           5        1     8        0\n",
            "1                       5           0       10     0       29\n",
            "2                       0           0        1    18        0\n",
            "3                       1          25       22     9        0\n",
            "4                       0           0        2     9        0\n"
          ]
        },
        {
          "output_type": "stream",
          "name": "stderr",
          "text": [
            "/usr/local/lib/python3.10/dist-packages/ipykernel/ipkernel.py:283: DeprecationWarning: `should_run_async` will not call `transform_cell` automatically in the future. Please pass the result to `transformed_cell` argument and any exception that happen during thetransform in `preprocessing_exc_tuple` in IPython 7.17 and above.\n",
            "  and should_run_async(code)\n"
          ]
        }
      ],
      "source": [
        "# Your code here\n",
        "# Step 1: Assign the dominant topic to each document\n",
        "df['dominant_topic'] = np.argmax(W_text_matrix, axis=1)\n",
        "\n",
        "# Step 2: Tally the original Brown categories per NMF topic\n",
        "category_topic_distribution = df.groupby(['dominant_topic', 'category']).size().unstack(fill_value=0)\n",
        "\n",
        "# Step 3: Print the distribution\n",
        "print(category_topic_distribution)"
      ]
    },
    {
      "cell_type": "markdown",
      "id": "f8d4e2bc",
      "metadata": {
        "id": "f8d4e2bc"
      },
      "source": [
        "Q: How does your five-topic NMF model compare to the original Brown categories?\n",
        "\n",
        "A: Based on the output from the five-topic NMF model compared to the original Brown categories, the model shows a strong ability to distinguish thematic content specific to certain genres while also indicating thematic overlaps among others. Topic 0 predominantly captures editorial writings, and Topic 1 is exclusively aligned with the romance genre, encapsulating all documents from this category. Topic 2 effectively identifies themes typical of news articles. Topic 3, however, spans across government, hobbies, and news, highlighting its capacity to capture formal or structured content common to these categories. Topic 4, though less distinct, tends towards news and hobbies, suggesting some thematic ambiguity. This analysis demonstrates the model's capability to both distinctly categorize and reveal thematic intersections within the corpus."
      ]
    },
    {
      "cell_type": "markdown",
      "id": "82e37cb5",
      "metadata": {
        "id": "82e37cb5"
      },
      "source": [
        "## Fitting an LSA Model\n",
        "\n",
        "In this section, follow the example from the repository and fit an LSA model (called a \"TruncatedSVD\" in `sklearn`). Again fit a five-topic model and compare it to the actual categories in the Brown corpus. Use the TF-IDF vectors for your fit, as above.\n",
        "\n",
        "To be explicit, we are once again interested in the extent to which this LSA factorization agrees or disagrees with the original categories in the corpus. For each topic in your model, tally the Brown categories and interpret the results.\n"
      ]
    },
    {
      "cell_type": "code",
      "execution_count": 13,
      "id": "00b53d3d",
      "metadata": {
        "colab": {
          "base_uri": "https://localhost:8080/"
        },
        "id": "00b53d3d",
        "outputId": "852db511-c911-4ff7-9d89-8e0f1fefa2b0"
      },
      "outputs": [
        {
          "output_type": "stream",
          "name": "stdout",
          "text": [
            "category            editorial  government  hobbies  news  romance\n",
            "dominant_topic_lsa                                               \n",
            "0                          27          30       36    33       25\n",
            "1                           0           0        0     0        4\n",
            "2                           0           0        0     3        0\n",
            "3                           0           0        0     1        0\n",
            "4                           0           0        0     7        0\n"
          ]
        },
        {
          "output_type": "stream",
          "name": "stderr",
          "text": [
            "/usr/local/lib/python3.10/dist-packages/ipykernel/ipkernel.py:283: DeprecationWarning: `should_run_async` will not call `transform_cell` automatically in the future. Please pass the result to `transformed_cell` argument and any exception that happen during thetransform in `preprocessing_exc_tuple` in IPython 7.17 and above.\n",
            "  and should_run_async(code)\n"
          ]
        }
      ],
      "source": [
        "# Your code herefrom sklearn.decomposition import TruncatedSVD\n",
        "\n",
        "# Step 1: Fit the LSA model\n",
        "lsa_model = TruncatedSVD(n_components=5, random_state=42)\n",
        "W_lsa_matrix = lsa_model.fit_transform(tfidf_text_vectors)  # tfidf_text_vectors from earlier\n",
        "\n",
        "# Step 2: Assign the dominant topic to each document\n",
        "df['dominant_topic_lsa'] = np.argmax(W_lsa_matrix, axis=1)\n",
        "\n",
        "# Step 3: Tally the original Brown categories per LSA topic\n",
        "category_topic_distribution_lsa = df.groupby(['dominant_topic_lsa', 'category']).size().unstack(fill_value=0)\n",
        "\n",
        "# Step 4: Print the distribution\n",
        "print(category_topic_distribution_lsa)\n"
      ]
    },
    {
      "cell_type": "markdown",
      "id": "4d94d56f",
      "metadata": {
        "id": "4d94d56f"
      },
      "source": [
        "Q: How does your five-topic LSA model compare to the original Brown categories?\n",
        "\n",
        "A: The five-topic LSA model used on the Brown corpus mostly groups a large number of documents from all categories into one main topic, Topic 0. This shows that Topic 0 might be capturing common language used in many different types of texts. The other topics, from 1 to 4, include very few documents. Topics 1 and 4, for example, only capture a few documents from the romance and news categories. This suggests that these topics are picking up on very specific themes that don't appear often in the corpus. Essentially, while one topic captures a broad range of common features, the others focus on rare, specific details but involve fewer documents."
      ]
    },
    {
      "cell_type": "code",
      "execution_count": 14,
      "id": "377a886e",
      "metadata": {
        "colab": {
          "base_uri": "https://localhost:8080/"
        },
        "id": "377a886e",
        "outputId": "4633213d-3a5f-4d8b-fcc6-a7b379d3c3d3"
      },
      "outputs": [
        {
          "output_type": "stream",
          "name": "stderr",
          "text": [
            "/usr/local/lib/python3.10/dist-packages/ipykernel/ipkernel.py:283: DeprecationWarning: `should_run_async` will not call `transform_cell` automatically in the future. Please pass the result to `transformed_cell` argument and any exception that happen during thetransform in `preprocessing_exc_tuple` in IPython 7.17 and above.\n",
            "  and should_run_async(code)\n"
          ]
        },
        {
          "output_type": "stream",
          "name": "stdout",
          "text": [
            "\n",
            "Topic 0 is most associated with the following categories:\n",
            "category\n",
            "hobbies       36\n",
            "news          33\n",
            "government    30\n",
            "editorial     27\n",
            "romance       25\n",
            "Name: 0, dtype: int64\n",
            "\n",
            "Topic 1 is most associated with the following categories:\n",
            "category\n",
            "romance       4\n",
            "editorial     0\n",
            "government    0\n",
            "hobbies       0\n",
            "news          0\n",
            "Name: 1, dtype: int64\n",
            "\n",
            "Topic 2 is most associated with the following categories:\n",
            "category\n",
            "news          3\n",
            "editorial     0\n",
            "government    0\n",
            "hobbies       0\n",
            "romance       0\n",
            "Name: 2, dtype: int64\n",
            "\n",
            "Topic 3 is most associated with the following categories:\n",
            "category\n",
            "news          1\n",
            "editorial     0\n",
            "government    0\n",
            "hobbies       0\n",
            "romance       0\n",
            "Name: 3, dtype: int64\n",
            "\n",
            "Topic 4 is most associated with the following categories:\n",
            "category\n",
            "news          7\n",
            "editorial     0\n",
            "government    0\n",
            "hobbies       0\n",
            "romance       0\n",
            "Name: 4, dtype: int64\n"
          ]
        }
      ],
      "source": [
        "lsa_tally = df.groupby('dominant_topic_lsa')['category'].value_counts().unstack(fill_value=0)\n",
        "\n",
        "# Printing the sorted categories for each topic\n",
        "for topic in range(lsa_model.n_components):  # Adjust n_components to the number of topics in your LSA model\n",
        "    print(f\"\\nTopic {topic} is most associated with the following categories:\")\n",
        "    print(lsa_tally.loc[topic].sort_values(ascending=False))"
      ]
    },
    {
      "cell_type": "markdown",
      "id": "ea8b280a",
      "metadata": {
        "id": "ea8b280a"
      },
      "source": [
        "Q: What is your interpretation of the display topics output?\n",
        "\n",
        "A: The output from the LSA model shows how different topics are associated with specific categories from the Brown corpus. Topic 0 has a broad association, including a high number of documents across all categories, indicating it captures general language used in many types of texts. Topics 1 through 4, however, are mostly associated with fewer documents and are predominantly linked with the news category, except for Topic 1, which is mainly linked to romance. This suggests that while Topic 0 might be picking up on common themes across various subjects, the other topics focus more on specific or less frequent themes, particularly in news and romance. The model shows a clear distinction in thematic focus with Topic 0 being the most versatile and the remaining topics showing a narrower focus."
      ]
    },
    {
      "cell_type": "markdown",
      "id": "b4ab4d29",
      "metadata": {
        "id": "b4ab4d29"
      },
      "source": [
        "## Fitting an LDA Model\n",
        "\n",
        "Finally, fit a five-topic LDA model using the count vectors (`count_text_vectors` from above). Display the results using `pyLDAvis.display` and describe what you learn from that visualization."
      ]
    },
    {
      "cell_type": "code",
      "execution_count": 15,
      "id": "802cb8ff",
      "metadata": {
        "colab": {
          "base_uri": "https://localhost:8080/"
        },
        "id": "802cb8ff",
        "outputId": "5100b64b-0dbf-4d50-8e44-efd8d38687bf"
      },
      "outputs": [
        {
          "output_type": "stream",
          "name": "stderr",
          "text": [
            "/usr/local/lib/python3.10/dist-packages/ipykernel/ipkernel.py:283: DeprecationWarning: `should_run_async` will not call `transform_cell` automatically in the future. Please pass the result to `transformed_cell` argument and any exception that happen during thetransform in `preprocessing_exc_tuple` in IPython 7.17 and above.\n",
            "  and should_run_async(code)\n"
          ]
        }
      ],
      "source": [
        "lda_model\t=\tLatentDirichletAllocation(n_components=5,\trandom_state=42)\n",
        "W_lda_matrix\t=\tlda_model.fit_transform(count_text_vectors)\n",
        "H_lda_matrix\t=\tlda_model.components_\n"
      ]
    },
    {
      "cell_type": "code",
      "source": [
        "display_topics(lda_model,\tcount_text_vectorizer.get_feature_names_out())"
      ],
      "metadata": {
        "colab": {
          "base_uri": "https://localhost:8080/"
        },
        "id": "FqM-IBTgD3G3",
        "outputId": "8b6b32e8-d76c-4332-f339-78cce3ef4372"
      },
      "id": "FqM-IBTgD3G3",
      "execution_count": 16,
      "outputs": [
        {
          "output_type": "stream",
          "name": "stdout",
          "text": [
            "\n",
            "Topic 00\n",
            "  may (0.89)\n",
            "  state (0.87)\n",
            "  states (0.73)\n",
            "  use (0.57)\n",
            "  united (0.54)\n",
            "\n",
            "Topic 01\n",
            "  mrs (1.37)\n",
            "  feed (0.70)\n",
            "  per (0.49)\n",
            "  house (0.44)\n",
            "  pool (0.41)\n",
            "\n",
            "Topic 02\n",
            "  mr (0.60)\n",
            "  president (0.51)\n",
            "  american (0.44)\n",
            "  world (0.42)\n",
            "  united (0.40)\n",
            "\n",
            "Topic 03\n",
            "  said (1.31)\n",
            "  state (0.60)\n",
            "  000 (0.54)\n",
            "  business (0.54)\n",
            "  sales (0.44)\n",
            "\n",
            "Topic 04\n",
            "  said (1.24)\n",
            "  back (0.60)\n",
            "  old (0.50)\n",
            "  little (0.49)\n",
            "  man (0.45)\n"
          ]
        },
        {
          "output_type": "stream",
          "name": "stderr",
          "text": [
            "/usr/local/lib/python3.10/dist-packages/ipykernel/ipkernel.py:283: DeprecationWarning: `should_run_async` will not call `transform_cell` automatically in the future. Please pass the result to `transformed_cell` argument and any exception that happen during thetransform in `preprocessing_exc_tuple` in IPython 7.17 and above.\n",
            "  and should_run_async(code)\n"
          ]
        }
      ]
    },
    {
      "cell_type": "markdown",
      "id": "f2c67876",
      "metadata": {
        "id": "f2c67876"
      },
      "source": [
        "Q: What inference do you draw from the displayed topics for your LDA model?\n",
        "\n",
        "A: The displayed topics from the LDA model reveal distinct thematic concentrations within the dataset. Topic 00 seems focused on governmental and administrative terms like \"state,\" \"states,\" and \"united,\" suggesting a theme around government or national discussions. Topic 01 appears more domestic or personal with words like \"mrs,\" \"house,\" and \"pool,\" indicating content related to personal narratives or lifestyle articles. Topic 02 emphasizes political and leadership elements, highlighted by terms such as \"mr,\" \"president,\" and \"american,\" pointing to coverage of political figures and national affairs. Topic 03 focuses on business and economic terms such as \"sales,\" \"business,\" and \"000,\" which likely corresponds to financial or business-related content. Finally, Topic 04 revolves around more narrative-driven terms like \"said,\" \"back,\" \"old,\" and \"man,\" suggesting storytelling or descriptive passages, possibly from fictional or biographical content.\n",
        "\n",
        "Q: Repeat the tallying of Brown categories within your topics. How does your five-topic LDA model compare to the original Brown categories?\n",
        "\n",
        "A: To effectively compare the LDA model's topics with the original Brown categories, tallying documents assigned to each topic against their original categories would help reveal how well the LDA topics align with known genres. From the keyword associations in the topics, one might infer Topic 00 aligns with government or political documents, Topic 01 with romance or personal essays, Topic 02 with news or editorial, Topic 03 with business or economic texts, and Topic 04 with fiction or narrative literature. However, for a precise analysis, one would need to execute a tallying operation in Python, categorizing each document by its dominant topic and comparing these groupings with the Brown categories. This would show whether, for example, government-related topics indeed capture documents from the \"government\" category of the Brown corpus, and similarly for other topics and categories, thus revealing the model's effectiveness in thematic categorization based on the data.\n",
        "\n",
        "\n"
      ]
    },
    {
      "cell_type": "code",
      "source": [
        "\n",
        "# Load Brown corpus data\n",
        "categories = ['editorial', 'government', 'hobbies', 'news', 'romance']\n",
        "texts = [' '.join(brown.words(fileids=fid)) for cat in categories for fid in brown.fileids(categories=cat)]\n",
        "category_labels = [cat for cat in categories for _ in brown.fileids(categories=cat)]\n",
        "\n",
        "# Create a document-term matrix using CountVectorizer\n",
        "vectorizer = CountVectorizer(stop_words='english', max_features=5000)\n",
        "count_text_vectors = vectorizer.fit_transform(texts)\n",
        "\n",
        "# Fit the LDA model\n",
        "lda_model = LatentDirichletAllocation(n_components=5, random_state=42)\n",
        "document_topics_lda = lda_model.fit_transform(count_text_vectors)\n",
        "\n",
        "# Assign each document to the most prominent LDA topic\n",
        "df = pd.DataFrame({'text': texts, 'original_category': category_labels})\n",
        "df['lda_topic'] = document_topics_lda.argmax(axis=1)\n",
        "\n",
        "# Tally the Brown categories for each topic\n",
        "category_topic_distribution = df.groupby(['lda_topic', 'original_category']).size().unstack(fill_value=0)\n",
        "\n",
        "# Plot the distribution\n",
        "fig, ax = plt.subplots(figsize=(12, 8))\n",
        "category_topic_distribution.plot(kind='bar', ax=ax)\n",
        "ax.set_title('Distribution of Brown Corpus Categories Across LDA Topics')\n",
        "ax.set_xlabel('LDA Topic')\n",
        "ax.set_ylabel('Number of Documents')\n",
        "plt.show()\n",
        "\n",
        "# Optionally, print the top words in each topic\n",
        "def print_top_words(model, feature_names, n_top_words):\n",
        "    for topic_idx, topic in enumerate(model.components_):\n",
        "        message = \"Topic #%d: \" % topic_idx\n",
        "        message += \" \".join([feature_names[i] for i in topic.argsort()[:-n_top_words - 1:-1]])\n",
        "        print(message)\n",
        "\n",
        "print_top_words(lda_model, vectorizer.get_feature_names_out(), 10)\n",
        "\n",
        "\n"
      ],
      "metadata": {
        "colab": {
          "base_uri": "https://localhost:8080/",
          "height": 888
        },
        "id": "rOI_XTZSGOJX",
        "outputId": "7dca1fa3-66b4-4e5c-8166-5512b4eff021"
      },
      "id": "rOI_XTZSGOJX",
      "execution_count": 17,
      "outputs": [
        {
          "output_type": "stream",
          "name": "stderr",
          "text": [
            "/usr/local/lib/python3.10/dist-packages/ipykernel/ipkernel.py:283: DeprecationWarning: `should_run_async` will not call `transform_cell` automatically in the future. Please pass the result to `transformed_cell` argument and any exception that happen during thetransform in `preprocessing_exc_tuple` in IPython 7.17 and above.\n",
            "  and should_run_async(code)\n"
          ]
        },
        {
          "output_type": "display_data",
          "data": {
            "text/plain": [
              "<Figure size 1200x800 with 1 Axes>"
            ],
            "image/png": "[encoded data removed]"
          },
          "metadata": {}
        },
        {
          "output_type": "stream",
          "name": "stdout",
          "text": [
            "Topic #0: feed like time don good make just water use house\n",
            "Topic #1: new home time year world said week game years day\n",
            "Topic #2: state new year states united president government mr program said\n",
            "Topic #3: said like did just man time old little day thought\n",
            "Topic #4: mrs said year new mr state john general years board\n"
          ]
        }
      ]
    },
    {
      "cell_type": "markdown",
      "id": "a3d14c87",
      "metadata": {
        "id": "a3d14c87"
      },
      "source": [
        "Q: What conclusions do you draw from the visualization above? Please address the principal component scatterplot and the salient terms graph.\n",
        "\n",
        "A: The `pyLDAvis` visualization for the LDA model shows that the topics are relatively well-separated in the principal component scatterplot, indicating distinct thematic clusters within the corpus. The salient terms graph reveals the most important words for each topic, such as \"feed\" and \"water\" for Topic #0, suggesting a theme around home or lifestyle content, and \"state,\" \"united,\" and \"president\" for Topic #2, indicating a governmental or political theme. This visualization confirms that the LDA model has effectively identified distinct and meaningful topics within the Brown corpus, with clear separation and relevant term associations for each topic.\n"
      ]
    }
  ],
  "metadata": {
    "kernelspec": {
      "display_name": "Python 3 (ipykernel)",
      "language": "python",
      "name": "python3"
    },
    "language_info": {
      "codemirror_mode": {
        "name": "ipython",
        "version": 3
      },
      "file_extension": ".py",
      "mimetype": "text/x-python",
      "name": "python",
      "nbconvert_exporter": "python",
      "pygments_lexer": "ipython3",
      "version": "3.9.16"
    },
    "colab": {
      "provenance": []
    }
  },
  "nbformat": 4,
  "nbformat_minor": 5
}